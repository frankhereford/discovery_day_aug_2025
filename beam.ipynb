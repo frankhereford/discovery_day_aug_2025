{
 "cells": [
  {
   "cell_type": "code",
   "execution_count": null,
   "id": "17ac3525-ec23-4755-ba22-dca7230e7b5c",
   "metadata": {},
   "outputs": [],
   "source": [
    "from beam import Image, endpoint, env, Volume, function\n",
    "from PIL import Image as PILImage\n",
    "import torch\n",
    "from transformers import DetrImageProcessor, DetrForObjectDetection\n",
    "from PIL import Image\n",
    "\n",
    "BEAM_VOLUME_CACHE_PATH = \"./weights\""
   ]
  },
  {
   "cell_type": "code",
   "execution_count": null,
   "id": "ca7889cf-83d2-44db-bf9c-964c2135582a",
   "metadata": {},
   "outputs": [],
   "source": [
    "    # Initialize the object detection model and processor\n",
    "    processor = DetrImageProcessor.from_pretrained(\n",
    "        \"facebook/detr-resnet-101\",\n",
    "        revision=\"no_timm\",\n",
    "        cache_dir=BEAM_VOLUME_CACHE_PATH,\n",
    "    )\n",
    "    model = DetrForObjectDetection.from_pretrained(\n",
    "        \"facebook/detr-resnet-101\",\n",
    "        revision=\"no_timm\",\n",
    "        cache_dir=BEAM_VOLUME_CACHE_PATH,\n",
    "    )\n",
    "\n",
    "    device = \"cuda\" if torch.cuda.is_available() else \"cpu\"\n",
    "    model.to(device)\n",
    "    print(f\"Using device: {device}\")\n"
   ]
  },
  {
   "cell_type": "code",
   "execution_count": null,
   "id": "d05eee8e-0413-4c23-a79b-2385d8a441aa",
   "metadata": {},
   "outputs": [],
   "source": [
    "@function(\n",
    "    gpu=\"T4\",\n",
    ")\n",
    "def detector(image='soco.jpg'):\n",
    "\n",
    "    processor = DetrImageProcessor.from_pretrained(\n",
    "        \"facebook/detr-resnet-101\",\n",
    "        revision=\"no_timm\",\n",
    "        cache_dir=BEAM_VOLUME_CACHE_PATH,\n",
    "    )\n",
    "    model = DetrForObjectDetection.from_pretrained(\n",
    "        \"facebook/detr-resnet-101\",\n",
    "        revision=\"no_timm\",\n",
    "        cache_dir=BEAM_VOLUME_CACHE_PATH,\n",
    "    )\n",
    "    \n",
    "    device = \"cuda\" if torch.cuda.is_available() else \"cpu\"\n",
    "    model.to(device)\n",
    "    print(f\"Using device: {device}\")\n",
    "    \n",
    "    image = PILImage.open(image)\n",
    "    width, height = image.size\n",
    "\n",
    "\n",
    "    # Process the image for object detection\n",
    "    processed_inputs = processor(images=image, return_tensors=\"pt\")\n",
    "    processed_inputs = processed_inputs.to(device)\n",
    "    outputs = model(**processed_inputs)\n",
    "\n",
    "\n",
    "    # Convert outputs to COCO API format and filter with threshold\n",
    "    target_sizes = torch.tensor([image.size[::-1]]).to(device)\n",
    "    results = processor.post_process_object_detection(\n",
    "     outputs, target_sizes=target_sizes, threshold=0.6\n",
    "    )[0]\n",
    "    \n",
    "    return results\n",
    "\n"
   ]
  },
  {
   "cell_type": "code",
   "execution_count": null,
   "id": "15135e26-f0c7-4942-bc2d-9d02c912f929",
   "metadata": {},
   "outputs": [],
   "source": [
    "def show_results(results):\n",
    "    # Prepare detection results\n",
    "    for score, label, box in zip(\n",
    "         results[\"scores\"], results[\"labels\"], results[\"boxes\"]\n",
    "    ):\n",
    "        box = [round(i, 2) for i in box.tolist()]\n",
    "        label_name = model.config.id2label[label.item()]\n",
    "        confidence = round(score.item(), 3)\n",
    "\n",
    "        print(\n",
    "            f\"Detected {label_name} with confidence {confidence} at location {box}\"\n",
    "        )\n"
   ]
  },
  {
   "cell_type": "code",
   "execution_count": null,
   "id": "f7f839bf-b8aa-4fcf-8ce2-f75c7d938f21",
   "metadata": {},
   "outputs": [],
   "source": [
    "def show_jpg(filename):\n",
    "    \"\"\"Display a JPG image from the current working directory.\"\"\"\n",
    "    img = Image.open(filename)\n",
    "    display(img)"
   ]
  },
  {
   "cell_type": "code",
   "execution_count": null,
   "id": "b2feba28-ca0c-4194-9e19-fe01a5595649",
   "metadata": {},
   "outputs": [],
   "source": [
    "#image = 'waffles_and_jack.jpg'\n",
    "image = 'soco.jpg'\n",
    "show_jpg(image)\n",
    "results = detector(image=image)\n",
    "show_results(results)"
   ]
  }
 ],
 "metadata": {
  "kernelspec": {
   "display_name": "Python 3 (ipykernel)",
   "language": "python",
   "name": "python3"
  },
  "language_info": {
   "codemirror_mode": {
    "name": "ipython",
    "version": 3
   },
   "file_extension": ".py",
   "mimetype": "text/x-python",
   "name": "python",
   "nbconvert_exporter": "python",
   "pygments_lexer": "ipython3",
   "version": "3.13.5"
  }
 },
 "nbformat": 4,
 "nbformat_minor": 5
}
